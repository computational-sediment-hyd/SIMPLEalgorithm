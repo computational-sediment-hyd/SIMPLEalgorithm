{
 "cells": [
  {
   "cell_type": "code",
   "execution_count": 1,
   "id": "39b7ab81",
   "metadata": {},
   "outputs": [],
   "source": [
    "from IPython.display import IFrame, SVG"
   ]
  },
  {
   "cell_type": "markdown",
   "id": "9e4bbe0b",
   "metadata": {},
   "source": [
    "## コーディングを意識したかなり丁寧なSIMPLE法：スタッガード格子版の離散化の解説"
   ]
  },
  {
   "cell_type": "markdown",
   "id": "c16b50de",
   "metadata": {},
   "source": [
    "### はじめに\n",
    "\n",
    "SIMPLE法は非圧縮性流体の計算方法として最も実務的な方法であると考えられますが、陰解法のため、陽解法と比較するとコーディングは難しいです。\n",
    "\n",
    "私もそれほど頻繁に使用するわけではないので、久しぶりにプログラムを改良するとき等は結構気が重かったりします。\n",
    "本記事では、自分自身の備忘録も兼ねて、プログラミングを意識して離散化についてまとめました。\n",
    "\n",
    "なお、簡単のためx,yの二次元で記載しています。"
   ]
  },
  {
   "cell_type": "markdown",
   "id": "583bea9d",
   "metadata": {},
   "source": [
    "###  運動方程式の離散化\n",
    "\n",
    "次のx方向の運動方程式のみを記述しています。"
   ]
  },
  {
   "cell_type": "markdown",
   "id": "a9101888",
   "metadata": {},
   "source": [
    "$$\n",
    "\\begin{align}\n",
    "&\\phi = u \\\\\n",
    "&\\frac{\\partial \\phi}{\\partial t}+\\frac{\\partial u \\phi}{\\partial x}+\\frac{\\partial v \\phi}{\\partial y}\n",
    "+ \\frac{1}{\\rho} \\frac{\\partial P}{\\partial x} \n",
    "- \\frac{\\partial }{\\partial x} \\left( \\nu \\dfrac{\\partial \\phi}{\\partial x}\\right)\n",
    "- \\frac{\\partial }{\\partial y} \\left( \\nu \\dfrac{\\partial \\phi}{\\partial y}\\right)\n",
    "= 0 \\\\ \n",
    "% \\frac{\\partial \\phi}{\\partial t}+\\frac{\\partial}{\\partial x}\\left(u \\phi - \\nu \\dfrac{\\partial \\phi}{\\partial x}\\right)\n",
    "% +\\frac{\\partial }{\\partial y}\\left( v \\phi - \\nu \\dfrac{\\partial \\phi}{\\partial y}\\right)\n",
    "% + \\frac{1}{\\rho} \\frac{\\partial P}{\\partial x} \n",
    "% &= 0 \n",
    "\\end{align}\n",
    "$$\n",
    "\n"
   ]
  },
  {
   "cell_type": "markdown",
   "id": "8436d2d4",
   "metadata": {},
   "source": [
    "スタッガード格子のため、コントロールボリュームは下図のように設けます。"
   ]
  },
  {
   "cell_type": "code",
   "execution_count": 2,
   "id": "6ae5708d",
   "metadata": {},
   "outputs": [
    {
     "data": {
      "text/html": [
       "\n",
       "        <iframe\n",
       "            width=\"600\"\n",
       "            height=\"300\"\n",
       "            src=\"https://computational-sediment-hyd.github.io/SIMPLEalgorithm/document/CVp.pdf\"\n",
       "            frameborder=\"0\"\n",
       "            allowfullscreen\n",
       "        ></iframe>\n",
       "        "
      ],
      "text/plain": [
       "<IPython.lib.display.IFrame at 0x1bbac837588>"
      ]
     },
     "execution_count": 2,
     "metadata": {},
     "output_type": "execute_result"
    }
   ],
   "source": [
    "IFrame(\"https://computational-sediment-hyd.github.io/SIMPLEalgorithm/document/CVp.pdf\", width=600, height=300)"
   ]
  },
  {
   "cell_type": "markdown",
   "id": "b8246217",
   "metadata": {},
   "source": [
    "まずは左辺第2,3項の移流項のみを抽出して離散化します。\n",
    "\n",
    "$$\n",
    "\\begin{align}\n",
    "\\frac{\\partial u \\phi}{\\partial x} + \\frac{\\partial v \\phi}{\\partial y} &= 0\n",
    "\\end{align}\n",
    "$$\n",
    "\n",
    "として式展開を行います。\n",
    "\n",
    "一次風上差分を適用するとx微分の項は次のように展開されます。\n",
    "\n",
    "$$\n",
    "\\begin{align}\n",
    "\\frac{\\partial u \\phi}{\\partial x} &= \\frac{u^{n+1}_{Xp} \\phi^{n+1}_{Xp} - u^{n+1}_{Xm} \\phi^{n+1}_{Xm}}{\\Delta x} \\\\\n",
    "u^{n+1}_{Xp} &= \\frac{u^{n+1}_{XP} + u^{n+1}_{C}}{2} \\\\\n",
    "u^{n+1}_{Xm} &= \\frac{u^{n+1}_{C} + u^{n+1}_{XM} }{2} \\\\\n",
    "%\n",
    "\\phi^{n+1}_{Xp} &= \\left\\{\n",
    "\\begin{array}{ll}\n",
    "\\phi^{n+1}_{C} & (u^{n+1}_{Xp} \\geq 0)\\\\\n",
    "\\phi^{n+1}_{XP} & (u^{n+1}_{Xp} \\lt 0)\n",
    "\\end{array}\n",
    "\\right.\n",
    "\\end{align}\n",
    "$$\n",
    "\n",
    "プログラミング上は以下のように記述します。\n",
    "\n",
    "$$\n",
    "\\begin{align}\n",
    "u^{n+1}_{Xp} \\phi^{n+1}_{Xp} = - max(-u^{n+1}_{Xp},0) \\cdot \\phi^{n+1}_{XP} + (max(-u^{n+1}_{Xp},0)+u^{n+1}_{Xp})\\cdot \\phi^{n+1}_{C} \n",
    "\\end{align}\n",
    "$$\n",
    "\n",
    "同様に、\n",
    "\n",
    "$$\n",
    "\\begin{align}\n",
    "u^{n+1}_{Xm} \\phi^{n+1}_{Xm} =  max(u^{n+1}_{Xm},0) \\cdot \\phi^{n+1}_{XM} - (max(u^{n+1}_{Xm},0)-u^{n+1}_{Xm})\\cdot \\phi^{n+1}_{C} \n",
    "\\end{align}\n",
    "$$\n",
    "                                 \n",
    "y微分の項も同様に展開します。\n",
    "\n",
    "$$\n",
    "\\begin{align}\n",
    "\\frac{\\partial v \\phi}{\\partial y} &= \\frac{v^{n+1}_{Yp} \\phi^{n+1}_{Yp} - v^{n+1}_{Ym} \\phi^{n+1}_{Ym}}{\\Delta y} \\\\\n",
    "v^{n+1}_{Yp} &= \\frac{v^{n+1}_{YP} + v^{n+1}_{C}}{2} \\\\\n",
    "v^{n+1}_{Ym} &= \\frac{v^{n+1}_{C} + v^{n+1}_{YM} }{2} \\\\\n",
    "\\end{align}\n",
    "$$\n",
    "\n",
    "$$\n",
    "\\begin{align}\n",
    "v^{n+1}_{Yp} \\phi^{n+1}_{Yp} &= - max(-v^{n+1}_{Yp},0) \\cdot \\phi^{n+1}_{YP} + (max(-v^{n+1}_{Yp},0)+v^{n+1}_{Yp})\\cdot \\phi^{n+1}_{C} \\\\\n",
    "v^{n+1}_{Ym} \\phi^{n+1}_{Ym} &=  max(v^{n+1}_{Ym},0) \\cdot \\phi^{n+1}_{YM} - (max(v^{n+1}_{Ym},0)-v^{n+1}_{Ym})\\cdot \\phi^{n+1}_{C} \n",
    "\\end{align}\n",
    "$$\n",
    "\n",
    "これらを整理すると、\n",
    "\n",
    "$$\n",
    "\\begin{align}\n",
    "a_C \\phi^{n+1}_{C} &= a_{XP} \\phi^{n+1}_{XP} + a_{XM} \\phi^{n+1}_{XM} + a_{YP} \\phi^{n+1}_{YP} + a_{YM} \\phi^{n+1}_{YM} \\\\\n",
    "a_{XP}&= max(-u^{n+1}_{Xp},0) \\Delta y \\\\\n",
    "a_{XM}&= max(u^{n+1}_{Xm},0) \\Delta y \\\\\n",
    "a_{YP}&= max(-v^{n+1}_{Yp},0) \\Delta x \\\\\n",
    "a_{YM}&= max(v^{n+1}_{Ym},0) \\Delta x \\\\\n",
    "a_{C}&= a_{XP} + a_{XM} + a_{YP} + a_{YM}  + (u^{n+1}_{Xp} - u^{n+1}_{Xm})\\Delta y + (v^{n+1}_{Yp} - v^{n+1}_{Ym})\\Delta x\n",
    "\\end{align}\n",
    "$$\n",
    "\n",
    "$a_C$の最後の2項は連続式を用いると0となり、キャンセルされます。"
   ]
  },
  {
   "cell_type": "markdown",
   "id": "f3e89173",
   "metadata": {},
   "source": [
    "次に移流項以外の項を含めて離散化します。離散式は次のとおりです。\n",
    "\n",
    "$$\n",
    "\\begin{align}\n",
    "&\\frac{\\partial \\phi}{\\partial t}+\\frac{\\partial u \\phi}{\\partial x}+\\frac{\\partial v \\phi}{\\partial y}\n",
    "+ \\frac{1}{\\rho} \\frac{\\partial P}{\\partial x} \n",
    "- \\frac{\\partial }{\\partial x} \\left( \\nu \\dfrac{\\partial \\phi}{\\partial x}\\right)\n",
    "- \\frac{\\partial }{\\partial y} \\left( \\nu \\dfrac{\\partial \\phi}{\\partial y}\\right)\n",
    "= 0 \\\\ \n",
    "&\\frac{\\phi^{n+1}_C - \\phi^{n}_C}{\\Delta t}\n",
    "+\\frac{u^{n+1}_{Xp} \\phi^{n+1}_{Xp} - u^{n+1}_{Xm} \\phi^{n+1}_{Xm}}{\\Delta x} \n",
    "+\\frac{v^{n+1}_{Yp} \\phi^{n+1}_{Yp} - v^{n+1}_{Ym} \\phi^{n+1}_{Ym}}{\\Delta y} \\\\\n",
    "& + \\frac{1}{\\rho} \\frac{P^{n+1}_{Xp} - P^{n+1}_{Xm}}{\\Delta x} \n",
    "-  \\nu \\frac{\\phi^{n+1}_{XP}  -2 \\phi^{n+1}_{C} - \\phi^{n+1}_{XM}}{\\Delta x^2}\n",
    "-  \\nu \\frac{\\phi^{n+1}_{YP}  -2 \\phi^{n+1}_{C} - \\phi^{n+1}_{YM}}{\\Delta y^2}\n",
    "= 0\n",
    "\\end{align}\n",
    "$$\n",
    "\n",
    "移流項と同様に式展開を行うと次のとおりとなります。\n",
    "\n",
    "$$\n",
    "\\begin{align}\n",
    "a_C \\phi^{n+1}_{C} &= a_{XP} \\phi^{n+1}_{XP} + a_{XM} \\phi^{n+1}_{XM} + a_{YP} \\phi^{n+1}_{YP} + a_{YM} \\phi^{n+1}_{YM}+b - \\frac{\\Delta x \\Delta y}{\\rho} \\frac{P^{n+1}_{Xp} - P^{n+1}_{Xm}}{\\Delta x} \\\\\n",
    "a_{XP}&= \\left( max(-u^{n+1}_{Xp},0) - \\frac{\\nu}{\\Delta x} \\right)\\Delta y \\\\\n",
    "a_{XM}&= \\left( max(u^{n+1}_{Xm},0)  - \\frac{\\nu}{\\Delta x} \\right)\\Delta y \\\\\n",
    "a_{YP}&= \\left( max(-v^{n+1}_{Yp},0) - \\frac{\\nu}{\\Delta y} \\right)\\Delta x \\\\\n",
    "a_{YM}&= \\left( max(v^{n+1}_{Ym},0)  - \\frac{\\nu}{\\Delta y} \\right)\\Delta x \\\\\n",
    "a_{C}&= a_{XP} + a_{XM} + a_{YP} + a_{YM}  + \\frac{\\Delta x \\Delta y}{\\Delta t} +  (u^{n+1}_{Xp} - u^{n+1}_{Xm})\\Delta y + (v^{n+1}_{Yp} - v^{n+1}_{Ym})\\Delta x \\\\\n",
    "b &= \\frac{\\Delta x \\Delta y}{\\Delta t}\\phi^{n}_C \n",
    "\\end{align}\n",
    "$$\n",
    "\n",
    "$a_C$の最後の2項は連続式を用いると0となり、キャンセルされます。\n",
    "\n",
    "SIMPLE法では定常解を取り扱うことが多いため、$\\Delta t$を無限大にとって$\\Delta t$を含む項を0とします。"
   ]
  },
  {
   "cell_type": "markdown",
   "id": "4abefb48",
   "metadata": {},
   "source": [
    "###  連続式の離散化\n",
    "\n",
    "同様に連続式も離散化します。\n",
    "\n",
    "スタッガード格子のため、コントロールボリュームは下図のように設けます。添字の位置が運動方程式と異なる点に注意して下さい。\n"
   ]
  },
  {
   "cell_type": "code",
   "execution_count": 3,
   "id": "cfa77d9a",
   "metadata": {},
   "outputs": [
    {
     "data": {
      "text/html": [
       "\n",
       "        <iframe\n",
       "            width=\"600\"\n",
       "            height=\"300\"\n",
       "            src=\"https://computational-sediment-hyd.github.io/SIMPLEalgorithm/document/CVu.pdf\"\n",
       "            frameborder=\"0\"\n",
       "            allowfullscreen\n",
       "        ></iframe>\n",
       "        "
      ],
      "text/plain": [
       "<IPython.lib.display.IFrame at 0x1bbac748048>"
      ]
     },
     "execution_count": 3,
     "metadata": {},
     "output_type": "execute_result"
    }
   ],
   "source": [
    "IFrame(\"https://computational-sediment-hyd.github.io/SIMPLEalgorithm/document/CVu.pdf\", width=600, height=300)"
   ]
  },
  {
   "cell_type": "markdown",
   "id": "e85c61f9",
   "metadata": {},
   "source": [
    "\n",
    "$$\n",
    "\\begin{align}\n",
    "&\\frac{\\partial u }{\\partial x}+\\frac{\\partial v }{\\partial y}\n",
    "= 0 \\\\\n",
    "&\\frac{u^{n+1}_{Xp}  - u^{n+1}_{Xm} }{\\Delta x} \n",
    "+\\frac{v^{n+1}_{Yp}  - v^{n+1}_{Ym} }{\\Delta y} \\\\\n",
    "&(u^{n+1}_{Xp}  - u^{n+1}_{Xm}) \\Delta y\n",
    "+(v^{n+1}_{Yp}  - v^{n+1}_{Ym}) \\Delta x \n",
    "= 0\n",
    "\\end{align}\n",
    "$$"
   ]
  },
  {
   "cell_type": "markdown",
   "id": "11565513",
   "metadata": {},
   "source": [
    "###  数値解法"
   ]
  },
  {
   "cell_type": "markdown",
   "id": "bb60eeb2",
   "metadata": {},
   "source": [
    "#### 手順1：仮の流速場の計算\n",
    "\n",
    "前述の離散式の未知数は、$u^{n+1},v^{n+1},P^{n+1}$です。\n",
    "これらは陽的に計算できないため、反復法によって求めます。\n",
    "\n",
    "$u,v,P$の仮の値を$u^{*},v^{*},P^{*}$とし、運動方程式に代入すると次のとおりになります。\n",
    "\n",
    "$$\n",
    "\\begin{align}\n",
    "\\phi^{*} &= u^{*} \\\\\n",
    "a_C \\phi^{*}_{C} &= a_{XP} \\phi^{*}_{XP} + a_{XM} \\phi^{*}_{XM} + a_{YP} \\phi^{*}_{YP} + a_{YM} \\phi^{*}_{YM}+b - \\frac{\\Delta x \\Delta y}{\\rho} \\frac{P^{*}_{Xp} - P^{*}_{Xm}}{\\Delta x} \n",
    "\\end{align}\n",
    "$$\n",
    "\n",
    "手順1ではこの式より$u^{*},v^{*}$について解きます。\n",
    "この式はTDMAによる方法、反復計算による方法等で計算可能です。（前回のプログラムでは反復計算SOR法を使用）\n",
    "\n",
    "この解法がSIMPLE法のポイントの一つになりますので詳細に説明します。\n",
    "\n",
    "この計算では、仮の流速の反復計算の一つ前のステップの値$\\phi^{*old}$から$次のステップの値\\phi^{*new}$を求めています。\n",
    "各項の係数$a$には$u^{*},v^{*}$が含まれますが、上式の計算では反復計算の一つ前のステップ$u^{*old},v^{*old}$のまま固定します。この線形化処理を行うことで上式が計算可能となります。\n",
    "\n",
    "これらを用いて上式を書き直すと以下になります。\n",
    "\n",
    "$$\n",
    "\\begin{align}\n",
    "\\phi^{*new} &= u^{*new} \\\\\n",
    "a_C \\phi^{*new}_{C} &= a_{XP} \\phi^{*new}_{XP} + a_{XM} \\phi^{*new}_{XM} + a_{YP} \\phi^{*new}_{YP} + a_{YM} \\phi^{*new}_{YM}+b - \\frac{\\Delta x \\Delta y}{\\rho} \\frac{P^{*}_{Xp} - P^{*}_{Xm}}{\\Delta x} \\\\\n",
    "a_{XP}&= \\left( max(-u^{*old}_{Xp},0) - \\frac{\\nu}{\\Delta x} \\right)\\Delta y \\\\\n",
    "a_{XM}&= \\left( max(u^{*old}_{Xm},0)  - \\frac{\\nu}{\\Delta x} \\right)\\Delta y \\\\\n",
    "a_{YP}&= \\left( max(-v^{*old}_{Yp},0) - \\frac{\\nu}{\\Delta y} \\right)\\Delta x \\\\\n",
    "a_{YM}&= \\left( max(v^{*old}_{Ym},0)  - \\frac{\\nu}{\\Delta y} \\right)\\Delta x \\\\\n",
    "a_{C}&= a_{XP} + a_{XM} + a_{YP} + a_{YM}  + \\frac{\\Delta x \\Delta y}{\\Delta t} +  (u^{*old}_{Xp} - u^{*old}_{Xm})\\Delta y + (v^{*old}_{Yp} - v^{*old}_{Ym})\\Delta x \\\\\n",
    "b &= \\frac{\\Delta x \\Delta y}{\\Delta t}\\phi^{n}_C \n",
    "\\end{align}\n",
    "$$\n",
    "\n",
    "\n",
    "なお、係数$a$中の$u^{*},v^{*}$は反復計算で更新しますので、十分に収束していれば問題はないことになります。"
   ]
  },
  {
   "cell_type": "markdown",
   "id": "bab3a0ec",
   "metadata": {},
   "source": [
    "#### 手順2 : 圧力補正量の計算\n",
    "\n",
    "次に、反復計算による補正量$u^{'},v^{'},P^{'}$を用いて、$u^{n+1},v^{n+1},P^{n+1}$を次のように定義します。\n",
    "\n",
    "$$\n",
    "\\begin{align}\n",
    "u^{n+1} &= u^{*}+ u^{'}\\\\\n",
    "v^{n+1} &= v^{*}+ v^{'}\\\\\n",
    "P^{n+1} &= P^{*}+ P^{'}\n",
    "\\end{align}\n",
    "$$\n",
    "\n",
    "これより、元の運動方程式と手順1の仮の値$u^{*},v^{*},P^{*}$を代入した運動方程式の差をとると次式が得られます。\n",
    "\n",
    "$$\n",
    "\\begin{align}\n",
    "\\phi^{'} &= u^{'} \\\\\n",
    "a_C \\phi^{'}_{C} &= a_{XP} \\phi^{'}_{XP} + a_{XM} \\phi^{'}_{XM} + a_{YP} \\phi^{'}_{YP} + a_{YM} \\phi^{'}_{YM} - \\frac{\\Delta x \\Delta y}{\\rho} \\frac{P^{'}_{Xp} - P^{'}_{Xm}}{\\Delta x} \n",
    "\\end{align}\n",
    "$$\n",
    "\n",
    "補正量$u^{'},v^{'}$は十分に小さいと仮定して、それらを含む項を無視すると次式となります。\n",
    "\n",
    "$$\n",
    "\\begin{align}\n",
    "\\phi^{'}_{C} &=  - \\frac{1}{a_C }\\frac{\\Delta x \\Delta y}{\\rho} \\frac{P^{'}_{Xp} - P^{'}_{Xm}}{\\Delta x} \n",
    "\\end{align}\n",
    "$$\n",
    "\n",
    "これが流速の補正量の式となります。\n",
    "\n",
    "次にこの式を連続式に代入します。\n",
    "まずは、わかりやすくするためにコントロールボリュームにあわせて添字を修正します。\n",
    "\n",
    "$$\n",
    "\\begin{align}\n",
    "u^{'}_{Xp} &=  - \\frac{1}{{a_C}|_{Xp}}\\frac{\\Delta x \\Delta y}{\\rho} \\frac{P^{'}_{XP} - P^{'}_{C}}{\\Delta x} \\\\\n",
    "u^{'}_{Xm} &=  - \\frac{1}{{a_C}|_{Xm}}\\frac{\\Delta x \\Delta y}{\\rho} \\frac{P^{'}_{C} - P^{'}_{XM}}{\\Delta x} \n",
    "\\\\\n",
    "v^{'}_{Yp} &=  - \\frac{1}{{a_C}|_{Yp}}\\frac{\\Delta x \\Delta y}{\\rho} \\frac{P^{'}_{YP} - P^{'}_{C}}{\\Delta y} \\\\\n",
    "v^{'}_{Ym} &=  - \\frac{1}{{a_C}|_{Ym}}\\frac{\\Delta x \\Delta y}{\\rho} \\frac{P^{'}_{C} - P^{'}_{YM}}{\\Delta y} \n",
    "\\end{align}\n",
    "$$"
   ]
  },
  {
   "cell_type": "markdown",
   "id": "56100786",
   "metadata": {},
   "source": [
    "また、連続式は次のとおりに変形します。\n",
    "\n",
    "$$\n",
    "\\begin{align}\n",
    "(u^{n+1}_{Xp}  - u^{n+1}_{Xm}) \\Delta y +(v^{n+1}_{Yp}  - v^{n+1}_{Ym}) \\Delta x  &= 0 \\\\\n",
    "(u^{*}_{Xp} - u^{*}_{Xm})\\Delta y + (v^{*}_{Yp} - v^{*}_{Ym})\\Delta x\n",
    "+ (u^{'}_{Xp} - u^{'}_{Xm})\\Delta y + (v^{'}_{Yp} - v^{'}_{Ym})\\Delta x &= 0\n",
    "\\end{align}\n",
    "$$\n",
    "\n",
    "上式に前述の流速の補正量の式を代入すると次式が得られます。\n",
    "\n",
    "$$\n",
    "\\begin{align}\n",
    "A_C P^{'}_{C} &= A_{XP} P^{'}_{XP} + A_{XM} P^{'}_{XM} + A_{YP} P^{'}_{YP} + A_{YM} P^{'}_{YM}+B\n",
    "\\\\\n",
    "A_{XP} &= \\frac{1}{{a_C}|_{Xp}}\\frac{\\Delta y^2}{\\rho} \\\\\n",
    "A_{XM} &= \\frac{1}{{a_C}|_{Xm}}\\frac{\\Delta y^2}{\\rho} \\\\\n",
    "A_{YP} &= \\frac{1}{{a_C}|_{Yp}}\\frac{\\Delta x^2}{\\rho} \\\\\n",
    "A_{YM} &= \\frac{1}{{a_C}|_{Ym}}\\frac{\\Delta x^2}{\\rho} \\\\\n",
    "A_{C}&= A_{XP} + A_{XM} + A_{YP} + A_{YM} \\\\  \n",
    "B &=  - (u^{*}_{Xp} - u^{*}_{Xm})\\Delta y - (v^{*}_{Yp} - v^{*}_{Ym})\\Delta x \n",
    "\\end{align}\n",
    "$$\n",
    "\n",
    "手順2ではこの式より$P^{'}$を解きます。\n",
    "この式はTDMAによる方法、反復計算による方法等で計算可能です。（前回のプログラムでは反復計算SOR法を使用）"
   ]
  },
  {
   "cell_type": "markdown",
   "id": "57231bfd",
   "metadata": {},
   "source": [
    "#### 手順3 : 流速、圧力の更新\n",
    "\n",
    " - 手順2で求めた$P^{'}$により、$ P^{*new} = P^{*old} + P^{'} $として、$P^{*}$を更新する。\n",
    " - 手順2で求めた$P^{'}$から、手順2に示す流速の補正量の式より$u^{'},v^{'}$を求める。\n",
    " - $u^{'},v^{'}$より、$u^{*new}  =u^{*old} + u^{'}$、$v^{*new} = v^{*old} + v^{'} $として、$u^{*},v^{*}$を更新する。\n",
    " "
   ]
  },
  {
   "cell_type": "markdown",
   "id": "e2464b89",
   "metadata": {},
   "source": [
    "#### 手順4 : 反復\n",
    "\n",
    "$u^{'},v^{'},P^{'}$が十分に小さくなるまで、手順1～3を繰り返す。"
   ]
  },
  {
   "cell_type": "markdown",
   "id": "63eb6c2d",
   "metadata": {},
   "source": [
    "### 緩和係数の導入\n",
    "\n",
    "SIMPLE法では各所で式の近似を行っているため、計算に不安定が生じやすいです。計算の安定性の観点から緩和係数を導入し、不足緩和を行います。\n",
    "\n",
    "#### 流速の不足緩和\n",
    "\n",
    "全体：手順1～3の反復計算において不足緩和を行います。\n",
    "\n",
    "具体的には反復計算の過程で得られた値$\\phi^{*new}$を不足緩和係数$\\alpha_U$を用いて、次のように定義する。\n",
    "\n",
    "$$\n",
    "\\begin{align}\n",
    " &\\phi^{*old} + \\alpha_U(\\phi^{*new} - \\phi^{*old})  \n",
    " = \\alpha_U \\phi^{*new} + (1-\\alpha_U) \\phi^{*old} \\rightarrow \\phi^{*new}\n",
    "\\end{align}\n",
    "$$\n",
    "\n",
    "$\\phi^{*old}$：反復計算の一つ前のステップでの値\n",
    "\n",
    "よって、手順1の式は次のように変形できます。\n",
    "\n",
    "$$\n",
    "\\begin{align}\n",
    "\\phi^{*new} &= u^{*new} \\\\\n",
    "\\dfrac{a_C}{\\alpha_U} \\phi^{*new}_{C} &= a_{XP} \\phi^{*new}_{XP} + a_{XM} \\phi^{*new}_{XM} + a_{YP} \\phi^{*new}_{YP} + a_{YM} \\phi^{*new}_{YM}+b - \\frac{\\Delta x \\Delta y}{\\rho} \\frac{P^{*}_{Xp} - P^{*}_{Xm}}{\\Delta x}  \\\\\n",
    "b &= \\frac{\\Delta x \\Delta y}{\\Delta t}\\phi^{n}_C  + (1-\\alpha_U)  \\dfrac{a_C}{\\alpha_U} \\phi^{*old}_{C}\n",
    "\\end{align}\n",
    "$$\n"
   ]
  },
  {
   "cell_type": "markdown",
   "id": "e40e7c46",
   "metadata": {},
   "source": [
    "#### 圧力の不足緩和\n",
    "\n",
    "流速と同様に不足緩和を行います。\n",
    "\n",
    "手順3の圧力の更新時に不足緩和係数$\\alpha_P$を用いて、$P^{*new} = P^{*old} + \\alpha_P P^{'} $とします。"
   ]
  },
  {
   "cell_type": "markdown",
   "id": "dcb9548a",
   "metadata": {},
   "source": [
    "#### 補足：緩和係数の値\n",
    "\n",
    "緩和係数は不足緩和のため1以下となる。対象とする流れ場によって最適値は異なるが、$\\alpha_U=0.5,\\alpha_P=0.8$程度と考えられている。"
   ]
  }
 ],
 "metadata": {
  "kernelspec": {
   "display_name": "Python 3",
   "language": "python",
   "name": "python3"
  },
  "language_info": {
   "codemirror_mode": {
    "name": "ipython",
    "version": 3
   },
   "file_extension": ".py",
   "mimetype": "text/x-python",
   "name": "python",
   "nbconvert_exporter": "python",
   "pygments_lexer": "ipython3",
   "version": "3.7.10"
  },
  "toc": {
   "base_numbering": 1,
   "nav_menu": {},
   "number_sections": true,
   "sideBar": true,
   "skip_h1_title": false,
   "title_cell": "Table of Contents",
   "title_sidebar": "Contents",
   "toc_cell": false,
   "toc_position": {},
   "toc_section_display": true,
   "toc_window_display": false
  }
 },
 "nbformat": 4,
 "nbformat_minor": 5
}
